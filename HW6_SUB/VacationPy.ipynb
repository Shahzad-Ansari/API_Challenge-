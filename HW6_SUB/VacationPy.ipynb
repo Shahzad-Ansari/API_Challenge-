{
 "cells": [
  {
   "cell_type": "markdown",
   "metadata": {},
   "source": [
    "# VacationPy\n",
    "----\n",
    "\n",
    "#### Note\n",
    "* Instructions have been included for each segment. You do not have to follow them exactly, but they are included to help you think through the steps."
   ]
  },
  {
   "cell_type": "code",
   "execution_count": 1,
   "metadata": {},
   "outputs": [],
   "source": [
    "# Dependencies and Setup\n",
    "import matplotlib.pyplot as plt\n",
    "import pandas as pd\n",
    "import numpy as np\n",
    "import requests\n",
    "import gmaps\n",
    "import os\n",
    "\n",
    "# Import API key\n",
    "from api_keys import g_key"
   ]
  },
  {
   "cell_type": "markdown",
   "metadata": {},
   "source": [
    "### Store Part I results into DataFrame\n",
    "* Load the csv exported in Part I to a DataFrame"
   ]
  },
  {
   "cell_type": "code",
   "execution_count": 2,
   "metadata": {},
   "outputs": [
    {
     "name": "stdout",
     "output_type": "stream",
     "text": [
      "<class 'pandas.core.frame.DataFrame'>\n",
      "RangeIndex: 572 entries, 0 to 571\n",
      "Data columns (total 9 columns):\n",
      " #   Column      Non-Null Count  Dtype  \n",
      "---  ------      --------------  -----  \n",
      " 0   City        572 non-null    object \n",
      " 1   Lat         572 non-null    float64\n",
      " 2   Lng         572 non-null    float64\n",
      " 3   Max Temp    572 non-null    float64\n",
      " 4   Humidity    572 non-null    int64  \n",
      " 5   Cloudiness  572 non-null    int64  \n",
      " 6   Wind Speed  572 non-null    float64\n",
      " 7   Country     565 non-null    object \n",
      " 8   Date        572 non-null    object \n",
      "dtypes: float64(4), int64(2), object(3)\n",
      "memory usage: 40.3+ KB\n"
     ]
    }
   ],
   "source": [
    "weatherDf = pd.read_csv(\"WeatherPy.csv\")\n",
    "weatherDf.info()\n"
   ]
  },
  {
   "cell_type": "markdown",
   "metadata": {},
   "source": [
    "### Humidity Heatmap\n",
    "* Configure gmaps.\n",
    "* Use the Lat and Lng as locations and Humidity as the weight.\n",
    "* Add Heatmap layer to map."
   ]
  },
  {
   "cell_type": "code",
   "execution_count": 3,
   "metadata": {},
   "outputs": [
    {
     "name": "stdout",
     "output_type": "stream",
     "text": [
      "test\n"
     ]
    }
   ],
   "source": [
    "latLong = weatherDf[['Lat','Lng']]\n",
    "Humidity = weatherDf['Humidity']\n",
    "print(\"test\")\n"
   ]
  },
  {
   "cell_type": "code",
   "execution_count": 4,
   "metadata": {},
   "outputs": [
    {
     "data": {
      "application/vnd.jupyter.widget-view+json": {
       "model_id": "d24f8ca9decc426fa878d538ecccede5",
       "version_major": 2,
       "version_minor": 0
      },
      "text/plain": [
       "Figure(layout=FigureLayout(border='1px solid black', height='800px', margin='0 auto 0 auto', padding='1px', wi…"
      ]
     },
     "metadata": {},
     "output_type": "display_data"
    }
   ],
   "source": [
    "figure_layout = {\n",
    "    'width': '1000px',\n",
    "    'height': '800px',\n",
    "    'border': '1px solid black',\n",
    "    'padding': '1px',\n",
    "    'margin': '0 auto 0 auto'\n",
    "}\n",
    "\n",
    "\n",
    "fig = gmaps.figure(layout=figure_layout,zoom_level=2,center=(15,25))\n",
    "heat_layer = gmaps.heatmap_layer(latLong, weights=Humidity,dissipating=False, max_intensity=100,point_radius=1.5)\n",
    "\n",
    "fig.add_layer(heat_layer)\n",
    "\n",
    "\n",
    "fig"
   ]
  },
  {
   "cell_type": "code",
   "execution_count": null,
   "metadata": {},
   "outputs": [],
   "source": []
  },
  {
   "cell_type": "markdown",
   "metadata": {},
   "source": [
    "### Create new DataFrame fitting weather criteria\n",
    "* Narrow down the cities to fit weather conditions.\n",
    "* Drop any rows will null values."
   ]
  },
  {
   "cell_type": "code",
   "execution_count": 37,
   "metadata": {},
   "outputs": [
    {
     "name": "stdout",
     "output_type": "stream",
     "text": [
      "21\n"
     ]
    }
   ],
   "source": [
    "idealWeatherDf = pd.DataFrame()\n",
    "\n",
    "ideal_temp = (weatherDf['Max Temp'] < 80) & (weatherDf['Max Temp'] >70)\n",
    "ideal_windSpeed = weatherDf['Wind Speed'] < 15\n",
    "ideal_cloudiness = weatherDf['Cloudiness'] == 0\n",
    "ideal_conditions = ideal_temp & ideal_windSpeed & ideal_cloudiness\n",
    "\n",
    "ideal_locations = weatherDf[ideal_conditions].dropna().reset_index()\n",
    "ideal_locations.head(10)\n",
    "print(len(ideal_locations))"
   ]
  },
  {
   "cell_type": "markdown",
   "metadata": {},
   "source": [
    "### Hotel Map\n",
    "* Store into variable named `hotel_df`.\n",
    "* Add a \"Hotel Name\" column to the DataFrame.\n",
    "* Set parameters to search for hotels with 5000 meters.\n",
    "* Hit the Google Places API for each city's coordinates.\n",
    "* Store the first Hotel result into the DataFrame.\n",
    "* Plot markers on top of the heatmap."
   ]
  },
  {
   "cell_type": "code",
   "execution_count": 45,
   "metadata": {
    "scrolled": false
   },
   "outputs": [
    {
     "data": {
      "text/html": [
       "<div>\n",
       "<style scoped>\n",
       "    .dataframe tbody tr th:only-of-type {\n",
       "        vertical-align: middle;\n",
       "    }\n",
       "\n",
       "    .dataframe tbody tr th {\n",
       "        vertical-align: top;\n",
       "    }\n",
       "\n",
       "    .dataframe thead th {\n",
       "        text-align: right;\n",
       "    }\n",
       "</style>\n",
       "<table border=\"1\" class=\"dataframe\">\n",
       "  <thead>\n",
       "    <tr style=\"text-align: right;\">\n",
       "      <th></th>\n",
       "      <th>index</th>\n",
       "      <th>City</th>\n",
       "      <th>Lat</th>\n",
       "      <th>Lng</th>\n",
       "      <th>Max Temp</th>\n",
       "      <th>Humidity</th>\n",
       "      <th>Cloudiness</th>\n",
       "      <th>Wind Speed</th>\n",
       "      <th>Country</th>\n",
       "      <th>Date</th>\n",
       "      <th>Hotel Name</th>\n",
       "    </tr>\n",
       "  </thead>\n",
       "  <tbody>\n",
       "    <tr>\n",
       "      <th>0</th>\n",
       "      <td>46</td>\n",
       "      <td>carutapera</td>\n",
       "      <td>-1.20</td>\n",
       "      <td>-46.02</td>\n",
       "      <td>77.810</td>\n",
       "      <td>80</td>\n",
       "      <td>0</td>\n",
       "      <td>3.72</td>\n",
       "      <td>BR</td>\n",
       "      <td>2020-08-20 19:11:27</td>\n",
       "      <td>CARU BALADAS</td>\n",
       "    </tr>\n",
       "    <tr>\n",
       "      <th>1</th>\n",
       "      <td>79</td>\n",
       "      <td>koroni</td>\n",
       "      <td>36.80</td>\n",
       "      <td>21.95</td>\n",
       "      <td>78.008</td>\n",
       "      <td>88</td>\n",
       "      <td>0</td>\n",
       "      <td>2.10</td>\n",
       "      <td>GR</td>\n",
       "      <td>2020-08-20 19:12:36</td>\n",
       "      <td>Apartments Xenios Zeus 1</td>\n",
       "    </tr>\n",
       "    <tr>\n",
       "      <th>2</th>\n",
       "      <td>116</td>\n",
       "      <td>waddan</td>\n",
       "      <td>29.16</td>\n",
       "      <td>16.14</td>\n",
       "      <td>74.480</td>\n",
       "      <td>66</td>\n",
       "      <td>0</td>\n",
       "      <td>3.93</td>\n",
       "      <td>LY</td>\n",
       "      <td>2020-08-20 19:12:54</td>\n",
       "      <td>Alternative (Authorized agent for the company'...</td>\n",
       "    </tr>\n",
       "    <tr>\n",
       "      <th>3</th>\n",
       "      <td>147</td>\n",
       "      <td>soma</td>\n",
       "      <td>39.19</td>\n",
       "      <td>27.61</td>\n",
       "      <td>71.600</td>\n",
       "      <td>72</td>\n",
       "      <td>0</td>\n",
       "      <td>0.50</td>\n",
       "      <td>TR</td>\n",
       "      <td>2020-08-20 19:13:03</td>\n",
       "      <td>Hotel Labella</td>\n",
       "    </tr>\n",
       "    <tr>\n",
       "      <th>4</th>\n",
       "      <td>172</td>\n",
       "      <td>canakkale</td>\n",
       "      <td>40.08</td>\n",
       "      <td>26.83</td>\n",
       "      <td>71.600</td>\n",
       "      <td>56</td>\n",
       "      <td>0</td>\n",
       "      <td>2.10</td>\n",
       "      <td>TR</td>\n",
       "      <td>2020-08-20 19:13:09</td>\n",
       "      <td>Övezdere Köy Meydanı</td>\n",
       "    </tr>\n",
       "  </tbody>\n",
       "</table>\n",
       "</div>"
      ],
      "text/plain": [
       "   index        City    Lat    Lng  Max Temp  Humidity  Cloudiness  \\\n",
       "0     46  carutapera  -1.20 -46.02    77.810        80           0   \n",
       "1     79      koroni  36.80  21.95    78.008        88           0   \n",
       "2    116      waddan  29.16  16.14    74.480        66           0   \n",
       "3    147        soma  39.19  27.61    71.600        72           0   \n",
       "4    172   canakkale  40.08  26.83    71.600        56           0   \n",
       "\n",
       "   Wind Speed Country                 Date  \\\n",
       "0        3.72      BR  2020-08-20 19:11:27   \n",
       "1        2.10      GR  2020-08-20 19:12:36   \n",
       "2        3.93      LY  2020-08-20 19:12:54   \n",
       "3        0.50      TR  2020-08-20 19:13:03   \n",
       "4        2.10      TR  2020-08-20 19:13:09   \n",
       "\n",
       "                                          Hotel Name  \n",
       "0                                       CARU BALADAS  \n",
       "1                           Apartments Xenios Zeus 1  \n",
       "2  Alternative (Authorized agent for the company'...  \n",
       "3                                      Hotel Labella  \n",
       "4                               Övezdere Köy Meydanı  "
      ]
     },
     "execution_count": 45,
     "metadata": {},
     "output_type": "execute_result"
    }
   ],
   "source": [
    "from pprint import pprint\n",
    "\n",
    "hotel_df = ideal_locations\n",
    "hotel_df['Hotel Name'] = \"\"\n",
    "\n",
    "jsonList = []\n",
    "for city, row in hotel_df.iterrows():\n",
    "    base_url = \"https://maps.googleapis.com/maps/api/place/nearbysearch/json\"\n",
    "    lat = row[\"Lat\"]\n",
    "    lng = row['Lng']\n",
    "    params = {\n",
    "        \"location\": f\"{lat},{lng}\",\n",
    "        \"radius\": 5000,\n",
    "        \"type\": \"hotel\",\n",
    "        \"key\": g_key}\n",
    "    \n",
    "    response = requests.get(base_url, params=params)\n",
    "    response =response.json()\n",
    "   \n",
    "    jsonList.append(response['results'][1]['name'])\n",
    "\n",
    "hotel_df['Hotel Name']=jsonList\n",
    "hotel_df.head()\n"
   ]
  },
  {
   "cell_type": "code",
   "execution_count": null,
   "metadata": {},
   "outputs": [],
   "source": []
  },
  {
   "cell_type": "code",
   "execution_count": 46,
   "metadata": {},
   "outputs": [],
   "source": [
    "# NOTE: Do not change any of the code in this cell\n",
    "\n",
    "# Using the template add the hotel marks to the heatmap\n",
    "info_box_template = \"\"\"\n",
    "<dl>\n",
    "<dt>Name</dt><dd>{Hotel Name}</dd>\n",
    "<dt>City</dt><dd>{City}</dd>\n",
    "<dt>Country</dt><dd>{Country}</dd>\n",
    "</dl>\n",
    "\"\"\"\n",
    "# Store the DataFrame Row\n",
    "# NOTE: be sure to update with your DataFrame name\n",
    "hotel_info = [info_box_template.format(**row) for index, row in hotel_df.iterrows()]\n",
    "locations = hotel_df[[\"Lat\", \"Lng\"]]"
   ]
  },
  {
   "cell_type": "code",
   "execution_count": 47,
   "metadata": {},
   "outputs": [
    {
     "data": {
      "application/vnd.jupyter.widget-view+json": {
       "model_id": "99bfd2d2160f4badbe3e1aee235707fa",
       "version_major": 2,
       "version_minor": 0
      },
      "text/plain": [
       "Figure(layout=FigureLayout(height='420px'))"
      ]
     },
     "metadata": {},
     "output_type": "display_data"
    }
   ],
   "source": [
    "# Add marker layer ontop of heat map\n",
    "\n",
    "hotelMap = gmaps.figure()\n",
    "tags = gmaps.marker_layer(locations)\n",
    "hotelMap.add_layer(tags)\n",
    "\n",
    "hotelMap\n",
    "\n",
    "\n",
    "\n",
    "# Display figure\n"
   ]
  },
  {
   "cell_type": "code",
   "execution_count": null,
   "metadata": {},
   "outputs": [],
   "source": []
  }
 ],
 "metadata": {
  "kernelspec": {
   "display_name": "Python 3",
   "language": "python",
   "name": "python3"
  },
  "language_info": {
   "codemirror_mode": {
    "name": "ipython",
    "version": 3
   },
   "file_extension": ".py",
   "mimetype": "text/x-python",
   "name": "python",
   "nbconvert_exporter": "python",
   "pygments_lexer": "ipython3",
   "version": "3.7.6"
  },
  "latex_envs": {
   "LaTeX_envs_menu_present": true,
   "autoclose": false,
   "autocomplete": true,
   "bibliofile": "biblio.bib",
   "cite_by": "apalike",
   "current_citInitial": 1,
   "eqLabelWithNumbers": true,
   "eqNumInitial": 1,
   "hotkeys": {
    "equation": "Ctrl-E",
    "itemize": "Ctrl-I"
   },
   "labels_anchors": false,
   "latex_user_defs": false,
   "report_style_numbering": false,
   "user_envs_cfg": false
  }
 },
 "nbformat": 4,
 "nbformat_minor": 2
}
